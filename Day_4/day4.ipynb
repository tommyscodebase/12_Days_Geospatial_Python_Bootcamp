{
 "cells": [
  {
   "cell_type": "markdown",
   "metadata": {},
   "source": [
    "▶️ **Link to Youtube Video:** [Day 4 - Build a Geocoder, Digitize Features, Add Search... | Introduction to Folium (Pt. 2)](https://youtu.be/gJ8Gx0wVVg0?si=8CYu2PhtIM28GHTB)\n",
    "\n",
    "\n",
    "▶️ **Link to Full Youtube Playlist:** [12 Days Geospatial Python Bootcamp](https://youtube.com/playlist?list=PLPBWT_CJ5QhL90iN3n6zWGpSXQLw42ToU&si=04Dv0mI3pPpBK29z)"
   ]
  },
  {
   "cell_type": "markdown",
   "metadata": {},
   "source": [
    "### Customizing Icons"
   ]
  },
  {
   "cell_type": "code",
   "execution_count": null,
   "metadata": {},
   "outputs": [],
   "source": [
    "import folium\n",
    "import numpy as np\n",
    "\n",
    "map = folium.Map(location=(6, -1))\n",
    "\n",
    "\n",
    "folium.Marker(\n",
    "    location=(6, -1),\n",
    "    draggable=True,\n",
    "    icon=folium.Icon(\n",
    "        icon=\"cloud\",\n",
    "        prefix=\"fa\"\n",
    "    )\n",
    ").add_to(map)\n",
    "\n",
    "map"
   ]
  },
  {
   "cell_type": "markdown",
   "metadata": {},
   "source": [
    "### Clustering (Organizing) Points"
   ]
  },
  {
   "cell_type": "code",
   "execution_count": null,
   "metadata": {},
   "outputs": [],
   "source": [
    "import folium\n",
    "from folium.plugins import MarkerCluster\n",
    "import numpy as np\n",
    "\n",
    "size = 500\n",
    "\n",
    "lats = np.random.randint(-35, 37, size).tolist()\n",
    "longs = np.random.randint(-17, 52, size).tolist()\n",
    "\n",
    "\n",
    "map = folium.Map(location=(6, -1))\n",
    "\n",
    "map.fit_bounds([\n",
    "    [float(np.min(lats)), float(np.min(longs))],\n",
    "    [float(np.max(lats)), float(np.max(longs))]\n",
    "])\n",
    "\n",
    "# Create cluster group\n",
    "points_cluster = MarkerCluster().add_to(map)\n",
    "\n",
    "# Plot the points\n",
    "for x, y in zip(lats, longs):\n",
    "    if lats.index(x) % 2 == 0:\n",
    "        folium.Marker(\n",
    "            location=(x, y),\n",
    "            icon=folium.Icon(color='green', icon=\"camera\")\n",
    "        ).add_to(points_cluster)\n",
    "    else:\n",
    "        folium.Marker(\n",
    "            location=(x, y),\n",
    "            icon=folium.Icon(color='blue', icon=\"tag\")\n",
    "        ).add_to(points_cluster)\n",
    "\n",
    "\n",
    "map"
   ]
  },
  {
   "cell_type": "markdown",
   "metadata": {},
   "source": [
    "### Adding Insert Maps (Mini Maps)"
   ]
  },
  {
   "cell_type": "code",
   "execution_count": null,
   "metadata": {},
   "outputs": [],
   "source": [
    "import folium\n",
    "from folium.plugins import MiniMap\n",
    "\n",
    "map = folium.Map()\n",
    "\n",
    "# Add Mini map\n",
    "MiniMap(\n",
    "    tile_layer=\"Cartodb Positron\",\n",
    "    position=\"topright\",\n",
    "    toggle_display=True,\n",
    "    minimized=True\n",
    ").add_to(map)\n",
    "\n",
    "map"
   ]
  },
  {
   "cell_type": "markdown",
   "metadata": {},
   "source": [
    "### Fullscreen feature"
   ]
  },
  {
   "cell_type": "code",
   "execution_count": null,
   "metadata": {},
   "outputs": [],
   "source": [
    "import folium\n",
    "from folium.plugins import MiniMap, Fullscreen\n",
    "\n",
    "map = folium.Map()\n",
    "\n",
    "# FullScreen\n",
    "Fullscreen().add_to(map)\n",
    "\n",
    "# Add Mini map\n",
    "MiniMap(\n",
    "    tile_layer=\"Cartodb Positron\",\n",
    "    position=\"topright\",\n",
    "    toggle_display=True,\n",
    "    minimized=True\n",
    ").add_to(map)\n",
    "\n",
    "map.save(\"fc.html\")"
   ]
  },
  {
   "cell_type": "markdown",
   "metadata": {},
   "source": [
    "### Add a Geocoder"
   ]
  },
  {
   "cell_type": "code",
   "execution_count": null,
   "metadata": {},
   "outputs": [],
   "source": [
    "import folium\n",
    "from folium.plugins import MiniMap, Geocoder\n",
    "\n",
    "map = folium.Map()\n",
    "\n",
    "\n",
    "# Geocoder\n",
    "Geocoder().add_to(map)\n",
    "\n",
    "\n",
    "# Add Mini map\n",
    "MiniMap(\n",
    "    tile_layer=\"Cartodb Positron\",\n",
    "    position=\"topright\",\n",
    "    toggle_display=True,\n",
    "    minimized=True\n",
    ").add_to(map)\n",
    "\n",
    "map"
   ]
  },
  {
   "cell_type": "markdown",
   "metadata": {},
   "source": [
    "### Add a custom search"
   ]
  },
  {
   "cell_type": "code",
   "execution_count": null,
   "metadata": {},
   "outputs": [],
   "source": [
    "import json\n",
    "import folium\n",
    "from folium.plugins import MiniMap, Geocoder, Search\n",
    "\n",
    "with open('./data/india.geojson', 'r') as file: # provide a path to a geojson in place of india.geosjson\n",
    "    map_data = json.load(file)\n",
    "\n",
    "with open('./data/africa.geojson', 'r') as file: # provide a path to a geojson in place of africa.geosjson\n",
    "    africa_data = json.load(file)\n",
    "\n",
    "map = folium.Map()\n",
    "\n",
    "# India layer\n",
    "india_layer = folium.GeoJson(\n",
    "    data=map_data\n",
    ").add_to(map)\n",
    "\n",
    "# Africa layer\n",
    "africa_layer = folium.GeoJson(\n",
    "    data=africa_data\n",
    ").add_to(map)\n",
    "\n",
    "\n",
    "# Search for India\n",
    "Search(\n",
    "    layer=india_layer,\n",
    "    search_label=\"NAME_1\", # Column in your geojson that you want ot use for the search\n",
    "    geom_type=\"Polygon\",\n",
    "    placeholder=\"Search for places in India\",\n",
    "    collapsed=True\n",
    ").add_to(map)\n",
    "\n",
    "# Search for Africa\n",
    "Search(\n",
    "    layer=africa_layer,\n",
    "    search_label=\"shapeName\", # Column in your geojson that you want ot use for the search\n",
    "    geom_type=\"Polygon\",\n",
    "    placeholder=\"Search for countries in Africa\"\n",
    ").add_to(map)\n",
    "\n",
    "\n",
    "# Geocoder\n",
    "Geocoder().add_to(map)\n",
    "\n",
    "\n",
    "# Add Mini map\n",
    "MiniMap(\n",
    "    tile_layer=\"Cartodb Positron\",\n",
    "    position=\"topright\",\n",
    "    toggle_display=True,\n",
    "    minimized=True\n",
    ").add_to(map)\n",
    "\n",
    "map"
   ]
  },
  {
   "cell_type": "markdown",
   "metadata": {},
   "source": [
    "### Digitizing with Folium"
   ]
  },
  {
   "cell_type": "code",
   "execution_count": null,
   "metadata": {},
   "outputs": [],
   "source": [
    "import folium\n",
    "from folium.plugins import Draw\n",
    "\n",
    "\n",
    "map = folium.Map()\n",
    "\n",
    "# Add the digitizer\n",
    "Draw(\n",
    "    export=True\n",
    ").add_to(map)\n",
    "\n",
    "map"
   ]
  }
 ],
 "metadata": {
  "kernelspec": {
   "display_name": "geospatial",
   "language": "python",
   "name": "python3"
  },
  "language_info": {
   "codemirror_mode": {
    "name": "ipython",
    "version": 3
   },
   "file_extension": ".py",
   "mimetype": "text/x-python",
   "name": "python",
   "nbconvert_exporter": "python",
   "pygments_lexer": "ipython3",
   "version": "3.9.7"
  }
 },
 "nbformat": 4,
 "nbformat_minor": 2
}
