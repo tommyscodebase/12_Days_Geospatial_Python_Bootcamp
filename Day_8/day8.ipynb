{
 "cells": [
  {
   "cell_type": "markdown",
   "metadata": {},
   "source": [
    "▶️ **Link to Youtube Video:** [Day 8 - Working with raster files in Python | Introduction to Rasterio (Part 2)](https://youtu.be/1Fa0Y7wDwDQ?si=kRdRJ1is6xO3PLro)\n",
    "\n",
    "\n",
    "▶️ **Link to Full Youtube Playlist:** [12 Days Geospatial Python Bootcamp](https://youtube.com/playlist?list=PLPBWT_CJ5QhL90iN3n6zWGpSXQLw42ToU&si=04Dv0mI3pPpBK29z)"
   ]
  },
  {
   "cell_type": "markdown",
   "metadata": {},
   "source": [
    "### Working with Rasters in Python (Intro to Rasterio - Part 2)"
   ]
  },
  {
   "cell_type": "code",
   "execution_count": null,
   "metadata": {},
   "outputs": [],
   "source": [
    "import rasterio as rio"
   ]
  },
  {
   "cell_type": "markdown",
   "metadata": {},
   "source": [
    "### Opening a dataset"
   ]
  },
  {
   "cell_type": "code",
   "execution_count": null,
   "metadata": {},
   "outputs": [],
   "source": [
    "with rio.open(\"./dem/dem.tif\") as src:\n",
    "    metadata = src.meta\n",
    "\n",
    "\n",
    "src.width\n",
    "src.height\n",
    "src.crs\n",
    "src.transform\n",
    "src.bounds\n",
    "src.count\n",
    "src.driver\n",
    "src.dtypes\n",
    "src.nodata"
   ]
  },
  {
   "cell_type": "markdown",
   "metadata": {},
   "source": [
    "### Visualizing Rasters"
   ]
  },
  {
   "cell_type": "code",
   "execution_count": null,
   "metadata": {},
   "outputs": [],
   "source": [
    "from rasterio.plot import show\n",
    "\n",
    "with rio.open(\"./dem/dem.tif\") as src:\n",
    "    band = src.read(1)\n",
    "\n",
    "\n",
    "show(\n",
    "    band,\n",
    "    # contour=True,\n",
    "    title=\"Lake Bosomtwe DEM\"\n",
    ")"
   ]
  },
  {
   "cell_type": "markdown",
   "metadata": {},
   "source": [
    "### Raster Histograms"
   ]
  },
  {
   "cell_type": "code",
   "execution_count": null,
   "metadata": {},
   "outputs": [],
   "source": [
    "from rasterio.plot import show_hist\n",
    "\n",
    "with rio.open(\"./dem/dem.tif\") as src:\n",
    "    band = src.read(1)\n",
    "\n",
    "show_hist(band, title=\"Lake Bosomtwe Histogram\")"
   ]
  },
  {
   "cell_type": "markdown",
   "metadata": {},
   "source": [
    "### Transoforming between pixel coordinates and spatial coordinates"
   ]
  },
  {
   "cell_type": "code",
   "execution_count": null,
   "metadata": {},
   "outputs": [],
   "source": [
    "with rio.open(\"./dem/dem.tif\") as src:\n",
    "    band = src.read(1)\n",
    "    transform = src.transform\n",
    "\n",
    "# print(src.crs)\n",
    "# Pixel to Spatial Coordinates\n",
    "pixel_coord = (100, 100)\n",
    "spatial_coord = transform * pixel_coord\n",
    "print(\"Pixel to Spatial Coordinates:\", spatial_coord)\n",
    "\n",
    "# Spatial Coordinate to Pixel Coordinates\n",
    "spatial_coord_rev = (-1.4809722221985637, 6.5612499999929215)\n",
    "pixel_coord_rev = src.index(spatial_coord_rev[0], spatial_coord_rev[1])\n",
    "print(\"Spatial Coordinate to Pixel Coordinates:\", pixel_coord_rev)\n"
   ]
  },
  {
   "cell_type": "markdown",
   "metadata": {},
   "source": [
    "### Finding Maximum Value (Elevation, DEM)\n"
   ]
  },
  {
   "cell_type": "code",
   "execution_count": null,
   "metadata": {},
   "outputs": [],
   "source": [
    "import numpy as np\n",
    "\n",
    "with rio.open(\"./dem/dem.tif\") as src:\n",
    "    band = src.read(1)\n",
    "    transform = src.transform\n",
    "\n",
    "\n",
    "maximum_pixel_value = np.max(band)\n",
    "maximum_pixel_index = np.unravel_index(np.argmax(band), band.shape)\n",
    "\n",
    "print(\"Maximum value is:\", maximum_pixel_value)\n",
    "print(\"Maximum value index:\", maximum_pixel_index)\n",
    "\n",
    "max_point_spatial = transform * (maximum_pixel_index[0], maximum_pixel_index[1])\n",
    "print(\"Maximum value spatial coord:\", max_point_spatial)\n"
   ]
  },
  {
   "cell_type": "markdown",
   "metadata": {},
   "source": [
    "### Selection and Indexing"
   ]
  },
  {
   "cell_type": "code",
   "execution_count": null,
   "metadata": {},
   "outputs": [],
   "source": [
    "with rio.open(\"./dem/dem.tif\") as src:\n",
    "    band = src.read(1)\n",
    "    transform = src.transform\n",
    "\n",
    "\n",
    "raster_value = band[593, 481]\n",
    "raster_value"
   ]
  },
  {
   "cell_type": "markdown",
   "metadata": {},
   "source": [
    "### Creating Composites"
   ]
  },
  {
   "cell_type": "code",
   "execution_count": null,
   "metadata": {},
   "outputs": [],
   "source": [
    "import os\n",
    "import rasterio as rio\n",
    "import numpy as np\n",
    "import matplotlib.pyplot as plt\n",
    "\n",
    "parent_dir = os.path.normpath(r\"/home/tommy/12_Days_GeoPython_Training/Day_8\")\n",
    "\n",
    "\"\"\"\n",
    "Create a folder inside your working directory called bands and place all your images\n",
    "there\n",
    "\"\"\"\n",
    "\n",
    "# File paths\n",
    "data_2 = \"bands/B2.TIF\" \n",
    "data_3 = \"bands/B3.TIF\"\n",
    "data_4 = \"bands/B4.TIF\"\n",
    "data_5 = \"bands/B5.TIF\"\n",
    "data_6 = \"bands/B6.TIF\"\n",
    "data_7 = \"bands/B7.TIF\"\n",
    "\n",
    "# Function to open files\n",
    "def read_band(file):\n",
    "    path_to_file = os.path.join(parent_dir, file)\n",
    "    with rio.open(path_to_file) as src:\n",
    "        return src.read(1)\n",
    "    \n",
    "def normalize(array):\n",
    "    array_min, array_max = array.min(), array.max()\n",
    "    normalized = (array - array_min) / (array_max - array_min)\n",
    "    return normalized\n",
    "\n",
    "    \n",
    "# Read all bands\n",
    "band_2 = read_band(data_2)  # Blue\n",
    "band_3 = read_band(data_3)  # Green\n",
    "band_4 = read_band(data_4)  # Red\n",
    "band_5 = read_band(data_5)  # NIR\n",
    "band_6 = read_band(data_6)  # SWIR1\n",
    "band_7 = read_band(data_7)  # SWIR2\n",
    "\n",
    "true_color_composite = np.dstack((band_4, band_3, band_2))\n",
    "normalized_composite = normalize(true_color_composite)\n",
    "\n",
    "plt.imshow(normalized_composite)\n",
    "plt.show()"
   ]
  },
  {
   "cell_type": "markdown",
   "metadata": {},
   "source": [
    "### Saving a Raster"
   ]
  },
  {
   "cell_type": "code",
   "execution_count": null,
   "metadata": {},
   "outputs": [],
   "source": [
    "with rio.open(os.path.join(parent_dir, data_2)) as src:\n",
    "    profile = src.profile\n",
    "    meta = src.meta\n",
    "\n",
    "# Update metadata for 3-band image\n",
    "meta.update({\n",
    "    \"count\": 3\n",
    "})\n",
    "\n",
    "# Transpose the array to (count, height, width) format\n",
    "output_data = np.transpose(normalized_composite, (2, 0, 1))\n",
    "\n",
    "output_path = os.path.join(parent_dir, 'composite.tif')\n",
    "print(output_data.shape)\n",
    "\n",
    "with rio.open(output_path, \"w\", **meta) as dataset:\n",
    "    dataset.write(output_data)\n"
   ]
  },
  {
   "cell_type": "code",
   "execution_count": null,
   "metadata": {},
   "outputs": [],
   "source": [
    "from rasterio.plot import show_hist\n",
    "\n",
    "with rio.open(output_path) as raster:\n",
    "    count = raster.count\n",
    "\n",
    "    show_hist(raster.read())"
   ]
  }
 ],
 "metadata": {
  "kernelspec": {
   "display_name": "geospatial",
   "language": "python",
   "name": "python3"
  },
  "language_info": {
   "codemirror_mode": {
    "name": "ipython",
    "version": 3
   },
   "file_extension": ".py",
   "mimetype": "text/x-python",
   "name": "python",
   "nbconvert_exporter": "python",
   "pygments_lexer": "ipython3",
   "version": "3.9.7"
  }
 },
 "nbformat": 4,
 "nbformat_minor": 2
}
