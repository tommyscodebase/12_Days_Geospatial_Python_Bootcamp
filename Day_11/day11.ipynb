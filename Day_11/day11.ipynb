{
 "cells": [
  {
   "cell_type": "markdown",
   "metadata": {},
   "source": [
    "▶️ **Link to Youtube Video:** [Day 11 - Unsupervised Image Classification using Python](https://youtu.be/yo-DU5gN2cA?si=XHKuh_0o8wTVLxay)\n",
    "\n",
    "\n",
    "▶️ **Link to Full Youtube Playlist:** [12 Days Geospatial Python Bootcamp](https://youtube.com/playlist?list=PLPBWT_CJ5QhL90iN3n6zWGpSXQLw42ToU&si=04Dv0mI3pPpBK29z)"
   ]
  },
  {
   "cell_type": "markdown",
   "metadata": {},
   "source": [
    "## Unsupervised Classification using Python"
   ]
  },
  {
   "cell_type": "code",
   "execution_count": null,
   "metadata": {},
   "outputs": [],
   "source": [
    "import os\n",
    "\n",
    "import rasterio as rio\n",
    "import numpy as np\n",
    "from sklearn.cluster import KMeans\n",
    "import matplotlib.pyplot as plt"
   ]
  },
  {
   "cell_type": "code",
   "execution_count": null,
   "metadata": {},
   "outputs": [],
   "source": [
    "images_dir = \"./dataset\" # The path to the folder that contains the satellite image bands\n",
    "\n",
    "# Get band paths\n",
    "band_paths = [\n",
    "    os.path.join(images_dir, item) \n",
    "    for item in os.listdir(images_dir) \n",
    "    if item.endswith(\".TIF\")\n",
    "]\n",
    "\n",
    "# Read the bands\n",
    "bands = []\n",
    "for file in band_paths:\n",
    "    with rio.open(file) as src:\n",
    "        bands.append(src.read(1))\n",
    "\n",
    "# Stack bands together into a 3d array (row, column, number of bands)\n",
    "stacked_bands = np.dstack(bands)\n",
    "\n",
    "n_rows, n_cols, n_bands = stacked_bands.shape\n",
    "\n",
    "# Reshape to a 2D array (pixels, number of bands)\n",
    "reshaped_bands = stacked_bands.reshape(-1, n_bands)\n",
    "reshaped_bands.shape"
   ]
  },
  {
   "cell_type": "markdown",
   "metadata": {},
   "source": [
    "### Apply KMeans Clustering"
   ]
  },
  {
   "cell_type": "code",
   "execution_count": null,
   "metadata": {},
   "outputs": [],
   "source": [
    "kmeans = KMeans(n_clusters=4, random_state=0)\n",
    "kmeans.fit(reshaped_bands)\n",
    "\n",
    "classified = kmeans.labels_\n",
    "\n",
    "# Reshape back to original dimensions (rows, cols)\n",
    "classified_image = classified.reshape(n_rows, n_cols)\n"
   ]
  },
  {
   "cell_type": "code",
   "execution_count": null,
   "metadata": {},
   "outputs": [],
   "source": [
    "# Saving classified raster\n",
    "band_1 = r\"/home/tommy/12_Days_GeoPython_Training/Day_11/dataset/B1.TIF\"\n",
    "with rio.open(band_1) as src:\n",
    "    meta = src.meta\n",
    "\n",
    "\n",
    "# Save the image\n",
    "with rio.open(\"./classified.tif\", \"w\", **meta) as dst:\n",
    "    dst.write(classified_image, 1)\n"
   ]
  },
  {
   "cell_type": "code",
   "execution_count": null,
   "metadata": {},
   "outputs": [],
   "source": [
    "np.unique(classified_image)"
   ]
  },
  {
   "cell_type": "code",
   "execution_count": null,
   "metadata": {},
   "outputs": [],
   "source": [
    "# Visualize classified raster\n",
    "plt.imshow(classified_image)\n",
    "plt.title(\"Unsupervised KMeans Classification\")\n",
    "plt.show()"
   ]
  }
 ],
 "metadata": {
  "kernelspec": {
   "display_name": "geospatial",
   "language": "python",
   "name": "python3"
  },
  "language_info": {
   "codemirror_mode": {
    "name": "ipython",
    "version": 3
   },
   "file_extension": ".py",
   "mimetype": "text/x-python",
   "name": "python",
   "nbconvert_exporter": "python",
   "pygments_lexer": "ipython3",
   "version": "3.9.7"
  }
 },
 "nbformat": 4,
 "nbformat_minor": 2
}
