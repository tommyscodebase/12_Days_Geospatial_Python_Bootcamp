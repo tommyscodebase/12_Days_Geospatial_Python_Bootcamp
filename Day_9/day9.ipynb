{
 "cells": [
  {
   "cell_type": "markdown",
   "metadata": {},
   "source": [
    "▶️ **Link to Youtube Video:** [Day 9 - Working with raster files in Python | Introduction to Rasterio (Part 3)](https://youtu.be/yp8mzWAut58?si=a63SjMJJpNLBZSP1)\n",
    "\n",
    "\n",
    "▶️ **Link to Full Youtube Playlist:** [12 Days Geospatial Python Bootcamp](https://youtube.com/playlist?list=PLPBWT_CJ5QhL90iN3n6zWGpSXQLw42ToU&si=04Dv0mI3pPpBK29z)"
   ]
  },
  {
   "cell_type": "markdown",
   "metadata": {},
   "source": [
    "## Working with Rasters in Python\n",
    "### Introduction to Rasterio (Part 3)"
   ]
  },
  {
   "cell_type": "code",
   "execution_count": null,
   "metadata": {},
   "outputs": [],
   "source": [
    "import rasterio as rio\n",
    "import matplotlib.pyplot as plt\n",
    "import numpy as np\n",
    "import os"
   ]
  },
  {
   "cell_type": "markdown",
   "metadata": {},
   "source": [
    "### Compositing / Stacking"
   ]
  },
  {
   "cell_type": "code",
   "execution_count": null,
   "metadata": {},
   "outputs": [],
   "source": [
    "images_dir = os.path.normpath(\"./rasters\") # the path to the folder which contains your images\n",
    "\n",
    "bands = [file for file in os.listdir(images_dir) if file.endswith(\".tif\")]\n",
    "sorted_bands = sorted(bands)\n",
    "\n",
    "# Empty list to store all the files\n",
    "stack_list = []\n",
    "\n",
    "for band in sorted_bands:\n",
    "    file = os.path.join(images_dir, band)\n",
    "\n",
    "    # Open the image\n",
    "    with rio.open(file) as src:\n",
    "        # Read band into numpy array and append to stack list\n",
    "        raster_band = src.read(1)\n",
    "        stack_list.append(raster_band)\n",
    "\n",
    "# Stack all bands\n",
    "stacked_bands = np.stack(stack_list, axis=0)"
   ]
  },
  {
   "cell_type": "code",
   "execution_count": null,
   "metadata": {},
   "outputs": [],
   "source": [
    "red = stack_list[5]\n",
    "blue = stack_list[4]\n",
    "green = stack_list[3]\n",
    "\n",
    "rgb = np.dstack((red, green, blue))\n",
    "\n",
    "rgb_normalized = (rgb - np.min(rgb)) / (np.max(rgb) - np.min(rgb))\n",
    "\n",
    "plt.figure(figsize=(8, 8))\n",
    "plt.imshow(rgb_normalized)\n",
    "plt.show()"
   ]
  },
  {
   "cell_type": "markdown",
   "metadata": {},
   "source": [
    "### Saving Composite Raster"
   ]
  },
  {
   "cell_type": "code",
   "execution_count": null,
   "metadata": {},
   "outputs": [],
   "source": [
    "band_1_path = r\"path to an existing satellite image band\"\n",
    "\n",
    "with rio.open(band_1_path) as dataset:\n",
    "    meta = dataset.meta\n",
    "    print(\"Dataset shape:\", dataset.read(1).shape)\n",
    "\n",
    "meta.update({\n",
    "    \"count\": 3\n",
    "})\n",
    "\n",
    "output_dir = \"output\"\n",
    "os.makedirs(output_dir, exist_ok=True)\n",
    "\n",
    "output_raster = os.path.join(output_dir, \"composite.tif\")\n",
    "\n",
    "# Transpose the stacked array\n",
    "output_data = np.transpose(rgb_normalized, (2, 0, 1))\n",
    "print(\"Composite shape:\", output_data.shape)\n",
    "print(\"Normalized shape:\", rgb_normalized.shape)\n",
    "\n",
    "with rio.open(output_raster, \"w\", **meta) as dst:\n",
    "    dst.write(output_data)\n"
   ]
  },
  {
   "cell_type": "code",
   "execution_count": null,
   "metadata": {},
   "outputs": [],
   "source": [
    "with rio.open(output_raster) as file:\n",
    "    print(file.count)"
   ]
  },
  {
   "cell_type": "markdown",
   "metadata": {},
   "source": [
    "## Reprojecting a raster"
   ]
  },
  {
   "cell_type": "code",
   "execution_count": null,
   "metadata": {},
   "outputs": [],
   "source": [
    "from rasterio.warp import calculate_default_transform, reproject, Resampling"
   ]
  },
  {
   "cell_type": "code",
   "execution_count": null,
   "metadata": {},
   "outputs": [],
   "source": [
    "import pyproj\n",
    "\n",
    "composite_raster = rio.open('./output/composite.tif')\n",
    "composite_raster.crs\n",
    "\n",
    "crs = \"EPSG:4326\"\n",
    "dst_crs = pyproj.CRS(crs)"
   ]
  },
  {
   "cell_type": "code",
   "execution_count": null,
   "metadata": {},
   "outputs": [],
   "source": [
    "# Open the original image\n",
    "with rio.open('./output/composite.tif') as src:\n",
    "    # band = src.read(1)\n",
    "    transform, width, height = calculate_default_transform(\n",
    "        src.crs, dst_crs, src.width, src.height, *src.bounds\n",
    "    )\n",
    "    metadata = src.meta.copy()\n",
    "    metadata.update({\n",
    "        'crs': dst_crs,\n",
    "        'transform': transform,\n",
    "        'width': width,\n",
    "        'height': height\n",
    "    })\n",
    "\n",
    "    # Reporoject the raster\n",
    "    output_reprojected = os.path.join(output_dir, \"reprojected.tif\")\n",
    "    with rio.open(output_reprojected, 'w', **metadata) as dst:\n",
    "        for i in range(1, src.count + 1):\n",
    "            reproject(\n",
    "            source=rio.band(src, i),\n",
    "            destination=rio.band(dst, i),\n",
    "            src_transform=src.transform,\n",
    "            src_crs=src.crs,\n",
    "            dst_transform=transform,\n",
    "            dst_crs=dst_crs,\n",
    "            resampling=Resampling.nearest\n",
    "        )\n",
    "\n",
    "\n"
   ]
  },
  {
   "cell_type": "code",
   "execution_count": null,
   "metadata": {},
   "outputs": [],
   "source": [
    "projected = rio.open(output_reprojected)\n",
    "projected.crs"
   ]
  },
  {
   "cell_type": "markdown",
   "metadata": {},
   "source": [
    "### Cropping a raster with a shapefile"
   ]
  },
  {
   "cell_type": "code",
   "execution_count": null,
   "metadata": {},
   "outputs": [],
   "source": [
    "import geopandas as gpd\n",
    "from rasterio.mask import mask as rmask\n",
    "\n",
    "\n",
    "roi = r\"/home/tommy/12_Days_GeoPython_Training/Day_9/shps/roi.shp\"\n",
    "composite_path = r\"/home/tommy/12_Days_GeoPython_Training/Day_9/output/composite.tif\"\n",
    "# composite_path = r\"/home/tommy/12_Days_GeoPython_Training/Day_9/rasters/Band_1.tif\"\n",
    "\n",
    "clipped_path = os.path.join(output_dir, \"clipped.tif\")\n",
    "\n",
    "gdf = gpd.read_file(roi)\n",
    "\n",
    "\n",
    "with rio.open(composite_path) as src:\n",
    "    shapes = gdf.geometry\n",
    "\n",
    "    cropped_image, cropped_image_transform = rmask(src, shapes, crop=True)\n",
    "\n",
    "    out_meta = src.meta.copy()\n",
    "    out_meta.update({\n",
    "        \"height\": cropped_image.shape[1],\n",
    "        \"width\": cropped_image.shape[2],\n",
    "        \"transform\": cropped_image_transform\n",
    "    })\n",
    "\n",
    "    # Save the cropped file\n",
    "    with rio.open(clipped_path, \"w\", **out_meta) as dst:\n",
    "        dst.write(cropped_image)\n",
    "        # dst.write(cropped_image[i - 1], i)"
   ]
  }
 ],
 "metadata": {
  "kernelspec": {
   "display_name": "geospatial",
   "language": "python",
   "name": "python3"
  },
  "language_info": {
   "codemirror_mode": {
    "name": "ipython",
    "version": 3
   },
   "file_extension": ".py",
   "mimetype": "text/x-python",
   "name": "python",
   "nbconvert_exporter": "python",
   "pygments_lexer": "ipython3",
   "version": "3.9.7"
  }
 },
 "nbformat": 4,
 "nbformat_minor": 2
}
