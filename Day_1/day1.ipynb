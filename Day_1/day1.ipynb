{
 "cells": [
  {
   "cell_type": "markdown",
   "metadata": {},
   "source": [
    "▶️ **Link to Youtube Video:** [Day 1 - Working with shapefile in Python | Introduction to Fiona and Shapely](https://youtu.be/lWv9iNuMnKg?si=p-3JjYuaq6Rv0Tgf)\n",
    "\n",
    "\n",
    "▶️ **Link to Full Youtube Playlist:** [12 Days Geospatial Python Bootcamp](https://youtube.com/playlist?list=PLPBWT_CJ5QhL90iN3n6zWGpSXQLw42ToU&si=04Dv0mI3pPpBK29z)"
   ]
  },
  {
   "cell_type": "markdown",
   "metadata": {},
   "source": [
    "##### Representing Polygons"
   ]
  },
  {
   "cell_type": "code",
   "execution_count": null,
   "metadata": {},
   "outputs": [],
   "source": [
    "from shapely.geometry import Polygon\n",
    "\n",
    "points = [\n",
    "    (0, 0),\n",
    "    (1, 1),\n",
    "    (2, 2)\n",
    "]\n",
    "\n",
    "poly = Polygon(points)\n",
    "\n",
    "print(poly)"
   ]
  },
  {
   "cell_type": "markdown",
   "metadata": {},
   "source": [
    "## Writing a shapefile with fiona"
   ]
  },
  {
   "cell_type": "code",
   "execution_count": null,
   "metadata": {},
   "outputs": [],
   "source": [
    "import fiona\n",
    "from shapely.geometry import Point, mapping"
   ]
  },
  {
   "cell_type": "code",
   "execution_count": null,
   "metadata": {},
   "outputs": [],
   "source": [
    "schema = {\n",
    "    'geometry': 'Point',\n",
    "    'properties': {\n",
    "        'id': 'int',\n",
    "        'description': 'str'\n",
    "    }\n",
    "}\n",
    "\n",
    "points = [(1, 1, 1), (2, 2, 2), (3, 3, 3), (4, 4, 4)]\n",
    "\n",
    "path = './data/point.shp'\n",
    "with fiona.open(path, 'w', driver='ESRI Shapefile', schema=schema) as shp:\n",
    "    for x, y, point_id in points:\n",
    "        shp.write({\n",
    "        'geometry': mapping(Point(x, y)),\n",
    "        'properties': {\n",
    "            'id': point_id,\n",
    "            'description': f'Some description for {point_id}'\n",
    "        }\n",
    "\n",
    "    })\n"
   ]
  },
  {
   "cell_type": "code",
   "execution_count": null,
   "metadata": {},
   "outputs": [],
   "source": [
    "import fiona\n",
    "from shapely.geometry import LineString, mapping\n",
    "\n",
    "schema = {\n",
    "    'geometry': 'LineString',\n",
    "    'properties': {'id': 'int'}\n",
    "}\n",
    "\n",
    "points = [(1, 1, 1), (2, 2, 2), (3, 3, 3), (4, 4, 4)]\n",
    "path = './data/line.shp'\n",
    "\n",
    "with fiona.open(path, 'w', driver='ESRI Shapefile', schema=schema) as src:\n",
    "    line = LineString(points)\n",
    "    src.write({\n",
    "        'geometry': mapping(line),\n",
    "        'properties': {'id': 1}\n",
    "    })\n"
   ]
  },
  {
   "cell_type": "markdown",
   "metadata": {},
   "source": [
    "### Reading a shapefile"
   ]
  },
  {
   "cell_type": "code",
   "execution_count": null,
   "metadata": {},
   "outputs": [],
   "source": [
    "import fiona"
   ]
  },
  {
   "cell_type": "code",
   "execution_count": null,
   "metadata": {},
   "outputs": [],
   "source": [
    "path = './data/point.shp'\n",
    "\n",
    "with fiona.open(path) as shapefile:\n",
    "    for feature in shapefile:\n",
    "        print(feature)"
   ]
  },
  {
   "cell_type": "markdown",
   "metadata": {},
   "source": [
    "## Common Geometry Operations"
   ]
  },
  {
   "cell_type": "markdown",
   "metadata": {},
   "source": [
    "#### Distance (Euclidean Distane)"
   ]
  },
  {
   "cell_type": "code",
   "execution_count": null,
   "metadata": {},
   "outputs": [],
   "source": [
    "point1 = Point(1.0, 1.0)\n",
    "point2 = Point(2.0, 2.0)\n",
    "\n",
    "distance = point1.distance(point2)\n",
    "print(distance)"
   ]
  },
  {
   "cell_type": "markdown",
   "metadata": {},
   "source": [
    "### Length"
   ]
  },
  {
   "cell_type": "code",
   "execution_count": null,
   "metadata": {},
   "outputs": [],
   "source": [
    "points = [(1, 1, 1), (2, 2, 2), (3, 3, 3), (4, 4, 4)]\n",
    "line = LineString(points)\n",
    "\n",
    "length = line.length\n",
    "\n",
    "print(length)"
   ]
  },
  {
   "cell_type": "markdown",
   "metadata": {},
   "source": [
    "### Intersection"
   ]
  },
  {
   "cell_type": "code",
   "execution_count": null,
   "metadata": {},
   "outputs": [],
   "source": [
    "from shapely.geometry import Polygon\n",
    "\n",
    "polygon1 = Polygon([(0, 0), (2, 0), (1, 2)])\n",
    "polygon2 = Polygon([(1, 1), (3, 1), (2, 3)])\n",
    "\n",
    "intersection = polygon1.intersection(polygon2)\n",
    "\n",
    "print(intersection)\n",
    "print(polygon1.area)"
   ]
  }
 ],
 "metadata": {
  "kernelspec": {
   "display_name": "geospatial",
   "language": "python",
   "name": "python3"
  },
  "language_info": {
   "codemirror_mode": {
    "name": "ipython",
    "version": 3
   },
   "file_extension": ".py",
   "mimetype": "text/x-python",
   "name": "python",
   "nbconvert_exporter": "python",
   "pygments_lexer": "ipython3",
   "version": "3.9.7"
  }
 },
 "nbformat": 4,
 "nbformat_minor": 2
}
