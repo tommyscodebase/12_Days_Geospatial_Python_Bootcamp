{
 "cells": [
  {
   "cell_type": "markdown",
   "metadata": {},
   "source": [
    "▶️ **Link to Youtube Video:** [Day 12 - Perform a Supervised Random Forest Classification using Python](https://youtu.be/IWJu9XXPsE4?si=FwkdkRneIV-DeNg3)\n",
    "\n",
    "\n",
    "▶️ **Link to Full Youtube Playlist:** [12 Days Geospatial Python Bootcamp](https://youtube.com/playlist?list=PLPBWT_CJ5QhL90iN3n6zWGpSXQLw42ToU&si=04Dv0mI3pPpBK29z)"
   ]
  },
  {
   "cell_type": "markdown",
   "metadata": {},
   "source": [
    "# Supervised Image Classification in Python"
   ]
  },
  {
   "cell_type": "markdown",
   "metadata": {},
   "source": [
    "#### Imports"
   ]
  },
  {
   "cell_type": "code",
   "execution_count": null,
   "metadata": {},
   "outputs": [],
   "source": [
    "import warnings\n",
    "\n",
    "warnings.filterwarnings(action=\"ignore\")"
   ]
  },
  {
   "cell_type": "code",
   "execution_count": null,
   "metadata": {},
   "outputs": [],
   "source": [
    "import os\n",
    "import numpy as np\n",
    "import pandas as pd\n",
    "import geopandas as gpd\n",
    "import rasterio as rio\n",
    "import keras\n",
    "import matplotlib.pyplot as plt\n",
    "\n",
    "from rasterio.plot import show as r_show\n",
    "from sklearn.ensemble import RandomForestClassifier\n",
    "from sklearn.model_selection import train_test_split\n",
    "from sklearn.metrics import confusion_matrix, cohen_kappa_score, accuracy_score\n",
    "from tqdm import tqdm"
   ]
  },
  {
   "cell_type": "markdown",
   "metadata": {},
   "source": [
    "### Source files and folders"
   ]
  },
  {
   "cell_type": "code",
   "execution_count": null,
   "metadata": {},
   "outputs": [],
   "source": [
    "training_shapefile_path = r\"./shps/signatures.shp\" # the path to your signature shapefile\n",
    "rasters_path = r\"./images\" # the path to the satellite bands\n",
    "\n",
    "classified_path = r\"classified\"\n",
    "os.makedirs(classified_path, exist_ok=True)\n",
    "\n",
    "training_shapefile = gpd.read_file(training_shapefile_path)"
   ]
  },
  {
   "cell_type": "markdown",
   "metadata": {},
   "source": [
    "### Categorize training labels"
   ]
  },
  {
   "cell_type": "code",
   "execution_count": null,
   "metadata": {},
   "outputs": [],
   "source": [
    "keys = {\n",
    "    \"Water\": 1,\n",
    "    \"Vegetation\": 2,\n",
    "    \"Built Up\": 3\n",
    "}\n",
    "\n",
    "def categorize_labels(record):\n",
    "    return keys[record]\n",
    "\n",
    "training_shapefile[\"LULC_Class\"] = training_shapefile[\"Name\"].apply(categorize_labels)\n",
    "training_shapefile"
   ]
  },
  {
   "cell_type": "markdown",
   "metadata": {},
   "source": [
    "### Read bands into numpy array"
   ]
  },
  {
   "cell_type": "code",
   "execution_count": null,
   "metadata": {},
   "outputs": [],
   "source": [
    "images_nparray = []\n",
    "images = [item for item in os.listdir(rasters_path) if item.lower().endswith('.tif')]\n",
    "\n",
    "for raster in images:\n",
    "    path = os.path.join(rasters_path, raster)\n",
    "    src = rio.open(path)\n",
    "    band = src.read(1)\n",
    "    images_nparray.append(band)\n"
   ]
  },
  {
   "cell_type": "markdown",
   "metadata": {},
   "source": [
    "### Extract band values into a column in the trianing shapefile"
   ]
  },
  {
   "cell_type": "code",
   "execution_count": null,
   "metadata": {},
   "outputs": [],
   "source": [
    "number_of_training_samples = len(training_shapefile['Name'])\n",
    "\n",
    "# Spectral data\n",
    "spectral_data = []\n",
    "\n",
    "for index in tqdm(range(number_of_training_samples), ncols=100):\n",
    "    # get geo coords of signatures\n",
    "    UTM_x, UTM_y = training_shapefile['geometry'][index].x, training_shapefile['geometry'][index].y\n",
    "\n",
    "    # Convert to pixel coord\n",
    "    x, y = src.index(UTM_x, UTM_y)\n",
    "    x, y = int(x), int(y)\n",
    "\n",
    "    # Extract band values\n",
    "    band_value_at_xy = []\n",
    "    for band in range(len(images)):\n",
    "        try:\n",
    "            i = images_nparray[band][y, x]\n",
    "            band_value_at_xy.append(i)\n",
    "        except IndexError:\n",
    "            band_value_at_xy.append(np.nan)\n",
    "\n",
    "    spectral_data.append(band_value_at_xy)\n",
    "\n",
    "training_shapefile[\"spectral_data\"] = spectral_data\n",
    "# training_shapefile.dropna(axis=1)\n",
    "training_shapefile\n"
   ]
  },
  {
   "cell_type": "markdown",
   "metadata": {},
   "source": [
    "### Create test and train split"
   ]
  },
  {
   "cell_type": "code",
   "execution_count": null,
   "metadata": {},
   "outputs": [],
   "source": [
    "train_indices, test_indices, train_data, test_data = [], [], [], []\n",
    "number_of_classes = 3\n",
    "\n",
    "for i in range(1, number_of_classes + 1):\n",
    "    data_class_i = training_shapefile[training_shapefile['LULC_Class'] == i]['spectral_data'].tolist()\n",
    "    indices_class_i = training_shapefile[training_shapefile['LULC_Class'] == i].index.tolist()\n",
    "\n",
    "    train_data_list, test_data_list, train_index_list, test_index_list = train_test_split(\n",
    "        data_class_i, indices_class_i, test_size=0.3, random_state=42\n",
    "    )\n",
    "\n",
    "    train_data.extend(train_data_list)\n",
    "    test_data.extend(test_data_list)\n",
    "    train_indices.extend(train_index_list)\n",
    "    test_indices.extend(test_index_list)\n",
    "\n",
    "# Convert data and labels into numpy arrays\n",
    "train_data = np.array(train_data)\n",
    "test_data = np.array(test_data)\n",
    "\n",
    "train_labels = training_shapefile.loc[train_indices, \"LULC_Class\"].values\n",
    "test_labels = training_shapefile.loc[test_indices, \"LULC_Class\"].values\n",
    "\n",
    "\n",
    "# Convert labels to categorical\n",
    "train_label_categorized = keras.utils.to_categorical(train_labels)\n",
    "test_label_categorized = keras.utils.to_categorical(test_labels)\n",
    "\n",
    "# Display data shapes for verification\n",
    "print(f\"Train data shape: {train_data.shape}\")\n",
    "print(f\"Test data shape: {test_data.shape}\")\n",
    "print(f\"Train labels shape: {train_label_categorized.shape}\")\n",
    "print(f\"Test labels shape: {test_label_categorized.shape}\")"
   ]
  },
  {
   "cell_type": "markdown",
   "metadata": {},
   "source": [
    "### The Random Forest Classifier"
   ]
  },
  {
   "cell_type": "code",
   "execution_count": null,
   "metadata": {},
   "outputs": [],
   "source": [
    "params = {\n",
    "    'max_depth': 50,\n",
    "    'n_estimators': 200,\n",
    "    'random_state': 10,\n",
    "    'warm_start': False,\n",
    "    'min_samples_split': 10\n",
    "}\n",
    "\n",
    "rf_classifier = RandomForestClassifier(**params)\n",
    "rf_classifier.fit(train_data, train_label_categorized)\n",
    "\n",
    "prediction = rf_classifier.predict(test_data)\n",
    "\n",
    "prediction_binary = np.argmax(prediction, axis=1)\n",
    "test_label_binary = np.argmax(test_label_categorized, axis=1)\n",
    "\n",
    "# Compute accuracy metrics\n",
    "accuracy = accuracy_score(test_label_binary, prediction_binary)\n",
    "kappa = cohen_kappa_score(test_label_binary, prediction_binary)\n",
    "\n",
    "# Print results\n",
    "print(f\"Model's Accuracy: {accuracy:.4f}\")\n",
    "print(f\"Cohen's Kappa: {kappa:.4f}\")"
   ]
  },
  {
   "cell_type": "markdown",
   "metadata": {},
   "source": [
    "### Perform the randon forest classification"
   ]
  },
  {
   "cell_type": "code",
   "execution_count": null,
   "metadata": {},
   "outputs": [],
   "source": [
    "rf_predictions = []\n",
    "\n",
    "\n",
    "for epoch in tqdm(range(images_nparray[0].shape[0]), ncols=100, desc=\"Classifying...\"):\n",
    "    spectral_data_at_row = []\n",
    "    for i in range(len(images)):\n",
    "        spectral_data_at_row.append(images_nparray[i][epoch])\n",
    "    \n",
    "    spectral_data_at_row_transpose = np.transpose(np.array(spectral_data_at_row))\n",
    "    predicted_class = rf_classifier.predict(spectral_data_at_row_transpose)\n",
    "    rf_predictions.append(np.argmax(predicted_class, axis=1))\n",
    "\n",
    "rf_predictions = np.array(rf_predictions).astype(np.uint8)\n",
    "\n",
    "print(\"Classificatoin complete...\")"
   ]
  },
  {
   "cell_type": "code",
   "execution_count": null,
   "metadata": {},
   "outputs": [],
   "source": [
    "out_meta = src.meta\n",
    "\n",
    "classified_raster_path = os.path.join(classified_path, \"rf.tif\")\n",
    "\n",
    "with rio.open(classified_raster_path, \"w\", ** out_meta) as dst:\n",
    "    dst.write(rf_predictions, 1)\n",
    "\n",
    "with rio.open(classified_raster_path) as dataset:\n",
    "    r_show(dataset, title=\"RF Classification\")"
   ]
  }
 ],
 "metadata": {
  "kernelspec": {
   "display_name": "geospatial",
   "language": "python",
   "name": "python3"
  },
  "language_info": {
   "codemirror_mode": {
    "name": "ipython",
    "version": 3
   },
   "file_extension": ".py",
   "mimetype": "text/x-python",
   "name": "python",
   "nbconvert_exporter": "python",
   "pygments_lexer": "ipython3",
   "version": "3.9.18"
  }
 },
 "nbformat": 4,
 "nbformat_minor": 2
}
