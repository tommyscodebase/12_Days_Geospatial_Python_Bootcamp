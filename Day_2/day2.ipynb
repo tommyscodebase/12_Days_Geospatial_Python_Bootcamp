{
 "cells": [
  {
   "cell_type": "markdown",
   "metadata": {},
   "source": [
    "▶️ **Link to Youtube Video:** [Day 2 - Cartographic Projections and Transformations with Python | Introduction to Pyproj](https://youtu.be/QWN6hSKEvjA?si=os0xB4Ws97twQdmy)\n",
    "\n",
    "\n",
    "▶️ **Link to Full Youtube Playlist:** [12 Days Geospatial Python Bootcamp](https://youtube.com/playlist?list=PLPBWT_CJ5QhL90iN3n6zWGpSXQLw42ToU&si=04Dv0mI3pPpBK29z)"
   ]
  },
  {
   "cell_type": "markdown",
   "metadata": {},
   "source": [
    "#### Defining a CRS"
   ]
  },
  {
   "cell_type": "code",
   "execution_count": null,
   "metadata": {},
   "outputs": [],
   "source": [
    "from pyproj import CRS"
   ]
  },
  {
   "cell_type": "code",
   "execution_count": null,
   "metadata": {},
   "outputs": [],
   "source": [
    "wgs84 = CRS.from_epsg(4326)\n",
    "utm31n = CRS.from_string(\"EPSG:32631\")\n",
    "utm31n.geodetic_crs"
   ]
  },
  {
   "cell_type": "markdown",
   "metadata": {},
   "source": [
    "#### Viewing CRS details"
   ]
  },
  {
   "cell_type": "code",
   "execution_count": null,
   "metadata": {},
   "outputs": [],
   "source": [
    "print(utm31n.to_wkt(pretty=True))"
   ]
  },
  {
   "cell_type": "markdown",
   "metadata": {},
   "source": [
    "### Performing a Coordinate Transformation"
   ]
  },
  {
   "cell_type": "code",
   "execution_count": null,
   "metadata": {},
   "outputs": [],
   "source": [
    "from pyproj import Transformer\n",
    "\n",
    "# Define the transformer\n",
    "# WGS84 UTM Zone 30N - 32630\n",
    "points_from = (676194.0223456646, 719494.2903138554)\n",
    "transfomer = Transformer.from_crs(32630, 4326)\n",
    "\n",
    "# Transform\n",
    "x, y = transfomer.transform(points_from[0], points_from[1])\n",
    "print(x, y)"
   ]
  },
  {
   "cell_type": "markdown",
   "metadata": {},
   "source": [
    "#### Projecting with Shapely and Pyproj"
   ]
  },
  {
   "cell_type": "code",
   "execution_count": null,
   "metadata": {},
   "outputs": [],
   "source": [
    "from shapely.geometry import Point"
   ]
  },
  {
   "cell_type": "code",
   "execution_count": null,
   "metadata": {},
   "outputs": [],
   "source": [
    "point = Point(6.506698063213731, -1.4065933227539065)\n",
    "\n",
    "transfomer = Transformer.from_crs(4326, 32630)\n",
    "\n",
    "utm_point = transfomer.transform(point.x, point.y)\n",
    "print(utm_point)"
   ]
  },
  {
   "cell_type": "markdown",
   "metadata": {},
   "source": [
    "#### Defining a custom CRS"
   ]
  },
  {
   "cell_type": "code",
   "execution_count": null,
   "metadata": {},
   "outputs": [],
   "source": [
    "# Geographic CRS\n",
    "from pyproj.crs import GeographicCRS\n",
    "\n",
    "geo_crs = GeographicCRS(\n",
    "    name=\"My fantastic CRS\", \n",
    "    datum=\"urn:ogc:def:datum:EPSG::6326\"\n",
    "    )\n",
    "\n",
    "geo_crs"
   ]
  },
  {
   "cell_type": "code",
   "execution_count": null,
   "metadata": {},
   "outputs": [],
   "source": [
    "# Custom Projected CRS\n",
    "from pyproj.crs import GeographicCRS, ProjectedCRS\n",
    "from pyproj.crs.coordinate_operation import UTMConversion\n",
    "from pyproj.crs.datum import CustomDatum, CustomEllipsoid\n",
    "\n",
    "custom_ellipsoid = CustomEllipsoid(\n",
    "    name=\"My fantastc ellipsoid\",\n",
    "    semi_major_axis=6378137,\n",
    "    semi_minor_axis=6356752\n",
    ")\n",
    "custom_datum = CustomDatum(\n",
    "    name=\"My fantastic datum\",\n",
    "    ellipsoid=custom_ellipsoid,\n",
    "    prime_meridian=\"Greenwich\"\n",
    ")\n",
    "\n",
    "proj_crs = ProjectedCRS(\n",
    "    name=\"My fantastic Projected CRS\",\n",
    "    conversion=UTMConversion(1), \n",
    "    geodetic_crs=GeographicCRS(datum=custom_datum)\n",
    "    )\n",
    "\n",
    "proj_crs"
   ]
  },
  {
   "cell_type": "code",
   "execution_count": null,
   "metadata": {},
   "outputs": [],
   "source": [
    "from pyproj import Geod\n",
    "from shapely.geometry import Point, LineString\n",
    "line_string = LineString([Point(1, 2), Point(3, 4)])\n",
    "geod = Geod(ellps=\"WGS84\")\n",
    "total_length = geod.geometry_length(line_string)\n",
    "print(f\"{total_length:.3f}\")\n",
    "\n",
    "distance_shapely = Point(1, 2).distance(Point(3, 4))\n",
    "print(distance_shapely)"
   ]
  }
 ],
 "metadata": {
  "kernelspec": {
   "display_name": "geospatial",
   "language": "python",
   "name": "python3"
  },
  "language_info": {
   "codemirror_mode": {
    "name": "ipython",
    "version": 3
   },
   "file_extension": ".py",
   "mimetype": "text/x-python",
   "name": "python",
   "nbconvert_exporter": "python",
   "pygments_lexer": "ipython3",
   "version": "3.9.7"
  }
 },
 "nbformat": 4,
 "nbformat_minor": 2
}
