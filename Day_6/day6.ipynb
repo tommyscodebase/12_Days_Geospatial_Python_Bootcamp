{
 "cells": [
  {
   "cell_type": "markdown",
   "metadata": {},
   "source": [
    "▶️ **Link to Youtube Video:** [Day 6 - Advancec Vector Geoprocessing in Python | Introduction to Geopandas (Part 2)](https://youtu.be/AElKKNjZgUc?si=sJRXfZKxG_kFQPhX)\n",
    "\n",
    "\n",
    "▶️ **Link to Full Youtube Playlist:** [12 Days Geospatial Python Bootcamp](https://youtube.com/playlist?list=PLPBWT_CJ5QhL90iN3n6zWGpSXQLw42ToU&si=04Dv0mI3pPpBK29z)"
   ]
  },
  {
   "cell_type": "markdown",
   "metadata": {},
   "source": [
    "## Advanced Selection Methods"
   ]
  },
  {
   "cell_type": "code",
   "execution_count": null,
   "metadata": {},
   "outputs": [],
   "source": [
    "import geopandas as gpd\n",
    "import numpy as np\n",
    "# naturalearth_lowres, naturalearth_cities, nybb\n",
    "world_df = gpd.read_file(gpd.datasets.get_path(\"naturalearth_lowres\"))\n",
    "\n",
    "\n",
    "# Countries in Africa, population estimate: 6000000\n",
    "africa_subset = world_df[\n",
    "    (world_df['continent'] == \"Africa\") & \n",
    "    (world_df['pop_est'] > 10000000) &\n",
    "    (world_df['name'].str.contains('N', case=False))\n",
    "]\n",
    "\n",
    "# Add a new column to Geodataframe\n",
    "population = np.random.randint(10000000, 50000000, size=18)\n",
    "\n",
    "# Adding a new column to the dataframe\n",
    "africa_subset[\"population\"] = population\n",
    "africa_subset\n",
    "# africa_subset.describe()"
   ]
  },
  {
   "cell_type": "markdown",
   "metadata": {},
   "source": [
    "## Geometric Operations"
   ]
  },
  {
   "cell_type": "markdown",
   "metadata": {},
   "source": [
    "##### Dissolve"
   ]
  },
  {
   "cell_type": "code",
   "execution_count": null,
   "metadata": {},
   "outputs": [],
   "source": [
    "import geopandas as gpd\n",
    "\n",
    "world_df = gpd.read_file(gpd.datasets.get_path(\"naturalearth_lowres\"))\n",
    "\n",
    "world_df_dissolved = world_df.dissolve(by='continent')\n",
    "world_df_dissolved.explore()"
   ]
  },
  {
   "cell_type": "markdown",
   "metadata": {},
   "source": [
    "#### Clip"
   ]
  },
  {
   "cell_type": "code",
   "execution_count": null,
   "metadata": {},
   "outputs": [],
   "source": [
    "import geopandas as gpd\n",
    "\n",
    "world_df = gpd.read_file(gpd.datasets.get_path(\"naturalearth_lowres\"))\n",
    "world_cities_df = gpd.read_file(gpd.datasets.get_path(\"naturalearth_cities\"))\n",
    "\n",
    "africa = world_df[world_df['continent'] == \"Africa\"]\n",
    "\n",
    "africa_cities = world_cities_df.clip(africa)\n",
    "\n",
    "africa_cities.plot()"
   ]
  },
  {
   "cell_type": "markdown",
   "metadata": {},
   "source": [
    "### Buffer"
   ]
  },
  {
   "cell_type": "code",
   "execution_count": null,
   "metadata": {},
   "outputs": [],
   "source": [
    "import geopandas as gpd\n",
    "import pyproj\n",
    "\n",
    "world_df = gpd.read_file(gpd.datasets.get_path(\"naturalearth_lowres\"))\n",
    "world_cities_df = gpd.read_file(gpd.datasets.get_path(\"naturalearth_cities\"))\n",
    "\n",
    "africa = world_df[\n",
    "    (world_df['continent'] == \"Africa\") &\n",
    "    world_df['name'].str.contains(\"N\")\n",
    "]\n",
    "\n",
    "africa_cities = world_cities_df.clip(africa)\n",
    "\n",
    "# Buffer\n",
    "africa_buffer = africa_cities.buffer(1)\n",
    "\n",
    "# africa_buffer.plot(figsize=(9, 16), alpha=0.5)\n",
    "\n",
    "africa_buffer.plot()\n",
    "\n"
   ]
  },
  {
   "cell_type": "markdown",
   "metadata": {},
   "source": [
    "### Plotting with Geopandas"
   ]
  },
  {
   "cell_type": "code",
   "execution_count": null,
   "metadata": {},
   "outputs": [],
   "source": [
    "import geopandas as gpd\n",
    "\n",
    "world_df = gpd.read_file(gpd.datasets.get_path(\"naturalearth_lowres\"))\n",
    "world_cities_df = gpd.read_file(gpd.datasets.get_path(\"naturalearth_cities\"))\n",
    "\n",
    "africa = world_df[\n",
    "    (world_df['continent'] == \"Africa\") \n",
    "    # world_df['name'].str.contains(\"b\", case=False)\n",
    "]\n",
    "\n",
    "africa_cities = world_cities_df.clip(africa)\n",
    "\n",
    "\n",
    "base = africa.plot(\n",
    "    figsize=(12, 24),\n",
    "    column='name',\n",
    "    legend=True,\n",
    "    cmap=\"Paired\",\n",
    "    zorder=1,\n",
    "    legend_kwds={\n",
    "        'title': \"Countries\",\n",
    "        'shadow': True,\n",
    "        'ncols': 3,\n",
    "        'loc': 'lower left'\n",
    "    }\n",
    ")\n",
    "\n",
    "# Buffer\n",
    "africa_buffer = africa_cities.buffer(1)\n",
    "africa_buffer.plot(ax=base, alpha=0.5, zorder=3)\n",
    "\n",
    "# Add africa cities layer\n",
    "africa_cities.plot(ax=base, color='black', zorder=4)\n",
    "\n",
    "africa.boundary.plot(ax=base, zorder=2, color='red', linewidth=5)\n",
    "# base.set_axis_off()\n",
    "base.grid(animated=True)\n",
    "\n",
    "base.set_title(\"Africa Countries\", fontsize=22, fontweight=5)\n",
    "base.contour\n",
    "\n",
    "\n",
    "# africa_buffer.plot()"
   ]
  }
 ],
 "metadata": {
  "kernelspec": {
   "display_name": "geospatial",
   "language": "python",
   "name": "python3"
  },
  "language_info": {
   "codemirror_mode": {
    "name": "ipython",
    "version": 3
   },
   "file_extension": ".py",
   "mimetype": "text/x-python",
   "name": "python",
   "nbconvert_exporter": "python",
   "pygments_lexer": "ipython3",
   "version": "3.9.7"
  }
 },
 "nbformat": 4,
 "nbformat_minor": 2
}
