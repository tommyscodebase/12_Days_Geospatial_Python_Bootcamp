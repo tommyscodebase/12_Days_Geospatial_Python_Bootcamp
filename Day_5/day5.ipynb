{
 "cells": [
  {
   "cell_type": "markdown",
   "metadata": {},
   "source": [
    "▶️ **Link to Youtube Video:** [Day 5 - Vector Geoprocessing in Python | Introduction to Geopandas](https://youtu.be/s6NpU7aLij4?si=hN5xkTw5b3VI5xz2)\n",
    "\n",
    "\n",
    "▶️ **Link to Full Youtube Playlist:** [12 Days Geospatial Python Bootcamp](https://youtube.com/playlist?list=PLPBWT_CJ5QhL90iN3n6zWGpSXQLw42ToU&si=04Dv0mI3pPpBK29z)"
   ]
  },
  {
   "cell_type": "markdown",
   "metadata": {},
   "source": [
    "## Introduction to Geopandas"
   ]
  },
  {
   "cell_type": "markdown",
   "metadata": {},
   "source": [
    "##### GeoSeries and GeoDataframe"
   ]
  },
  {
   "cell_type": "code",
   "execution_count": null,
   "metadata": {},
   "outputs": [],
   "source": [
    "# Geoseries\n",
    "import geopandas as gpd\n",
    "from geopandas import GeoSeries, GeoDataFrame\n",
    "from shapely.geometry import Point\n",
    "\n",
    "places = GeoSeries([\n",
    "    Point(1, 2), # House\n",
    "    Point(2, 3), # School\n",
    "    Point(3, 4) # A park\n",
    "])\n",
    "\n",
    "print(places)"
   ]
  },
  {
   "cell_type": "code",
   "execution_count": null,
   "metadata": {},
   "outputs": [],
   "source": [
    "import pandas as pd\n",
    "\n",
    "# GeoDataframe\n",
    "gdf = GeoDataFrame({\n",
    "    \"name\": [\"My House\", \"My School\", \"The park\"],\n",
    "    \"type\": [\"House\",\"School\", \"Park\"],\n",
    "    \"geometry\": places\n",
    "})\n",
    "\n",
    "gdf"
   ]
  },
  {
   "cell_type": "markdown",
   "metadata": {},
   "source": [
    "#### Reading data (shapefiles, geojsons, geopackages)"
   ]
  },
  {
   "cell_type": "markdown",
   "metadata": {},
   "source": [
    "##### Reading a local shapefile"
   ]
  },
  {
   "cell_type": "code",
   "execution_count": null,
   "metadata": {},
   "outputs": [],
   "source": [
    "import geopandas as gpd\n",
    "\n",
    "file = 'path to a shapefile'\n",
    "\n",
    "gdf = gpd.read_file(file)\n",
    "\n",
    "gdf"
   ]
  },
  {
   "cell_type": "markdown",
   "metadata": {},
   "source": [
    "##### Reading a local zipfiles"
   ]
  },
  {
   "cell_type": "code",
   "execution_count": null,
   "metadata": {},
   "outputs": [],
   "source": [
    "import geopandas as gpd\n",
    "\n",
    "zip_file_path = 'path to a zipped file containing a shapefile'\n",
    "\n",
    "zip_gdf = gpd.read_file(f\"zip:///{zip_file_path}/name_of_shapefile.shp\")\n",
    "\"\"\"\n",
    "Replace name_of_shpaefile.shp with the actual name of the shapefile whih is inside the zipped folder\n",
    "\"\"\"\n",
    "zip_gdf"
   ]
  },
  {
   "cell_type": "markdown",
   "metadata": {},
   "source": [
    "##### Reading files from the internet"
   ]
  },
  {
   "cell_type": "code",
   "execution_count": null,
   "metadata": {},
   "outputs": [],
   "source": [
    "import geopandas as gpd\n",
    "\n",
    "url_file = 'https://geodata.ucdavis.edu/diva/adm/GHA_adm.zip'\n",
    "\n",
    "url_gdf = gpd.read_file(url_file)\n",
    "\n",
    "url_gdf"
   ]
  },
  {
   "cell_type": "markdown",
   "metadata": {},
   "source": [
    "### Geopandas Datasets"
   ]
  },
  {
   "cell_type": "code",
   "execution_count": null,
   "metadata": {},
   "outputs": [],
   "source": [
    "import geopandas as gpd\n",
    "\n",
    "print(gpd.datasets.available)"
   ]
  },
  {
   "cell_type": "code",
   "execution_count": null,
   "metadata": {},
   "outputs": [],
   "source": [
    "nybb_gdf = gpd.read_file(gpd.datasets.get_path('nybb'))\n",
    "nybb_gdf"
   ]
  },
  {
   "cell_type": "markdown",
   "metadata": {},
   "source": [
    "### Indexing and Selecting Data"
   ]
  },
  {
   "cell_type": "code",
   "execution_count": null,
   "metadata": {},
   "outputs": [],
   "source": [
    "world_gdf = gpd.read_file(gpd.datasets.get_path('naturalearth_lowres'))\n",
    "\n",
    "africa = world_gdf[world_gdf[\"continent\"] == \"Africa\"]\n",
    "africa"
   ]
  },
  {
   "cell_type": "markdown",
   "metadata": {},
   "source": [
    "### Plotting with Geopandas"
   ]
  },
  {
   "cell_type": "code",
   "execution_count": null,
   "metadata": {},
   "outputs": [],
   "source": [
    "import geopandas as gpd\n",
    "\n",
    "\n",
    "world_gdf = gpd.read_file(gpd.datasets.get_path('naturalearth_lowres'))\n",
    "\n",
    "africa = world_gdf[world_gdf[\"continent\"] == \"Africa\"]\n",
    "print(africa.columns)\n",
    "africa.plot(\n",
    "    column=\"name\", # Choropleth Maps\n",
    "    cmap=\"viridis\", # Change color\n",
    "    legend=True, # Add a legend,\n",
    "    figsize=(8, 16), # Increase canvas size\n",
    "    edgecolor=\"red\", # Boundary color\n",
    "    alpha=0.2, # transparency\n",
    "    # grid=True, # Add a grid\n",
    ")"
   ]
  },
  {
   "cell_type": "markdown",
   "metadata": {},
   "source": [
    "### Interactive Mapping"
   ]
  },
  {
   "cell_type": "code",
   "execution_count": null,
   "metadata": {},
   "outputs": [],
   "source": [
    "import geopandas as gpd\n",
    "\n",
    "\n",
    "world_gdf = gpd.read_file(gpd.datasets.get_path('naturalearth_lowres'))\n",
    "\n",
    "africa = world_gdf[world_gdf[\"continent\"] == \"Africa\"]\n",
    "print(africa.columns)\n",
    "\n",
    "africa.explore(\n",
    "    tooltip=\"name\",\n",
    "    popup=True,\n",
    "    cmap=\"Set1\",\n",
    "    column='name',\n",
    "    style_kwds={\n",
    "        'color': \"black\"\n",
    "    }\n",
    ")"
   ]
  },
  {
   "cell_type": "code",
   "execution_count": null,
   "metadata": {},
   "outputs": [],
   "source": []
  }
 ],
 "metadata": {
  "kernelspec": {
   "display_name": "geospatial",
   "language": "python",
   "name": "python3"
  },
  "language_info": {
   "codemirror_mode": {
    "name": "ipython",
    "version": 3
   },
   "file_extension": ".py",
   "mimetype": "text/x-python",
   "name": "python",
   "nbconvert_exporter": "python",
   "pygments_lexer": "ipython3",
   "version": "3.9.7"
  }
 },
 "nbformat": 4,
 "nbformat_minor": 2
}
