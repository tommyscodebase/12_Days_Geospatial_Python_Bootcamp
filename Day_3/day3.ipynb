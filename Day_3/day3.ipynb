{
 "cells": [
  {
   "cell_type": "markdown",
   "metadata": {},
   "source": [
    "▶️ **Link to Youtube Video:** [Day 3 - Making maps with Python | Introduction to Folium](https://youtu.be/6PdHQERN5Ng?si=NKJwWnj38VwCi7Kb)\n",
    "\n",
    "\n",
    "▶️ **Link to Full Youtube Playlist:** [12 Days Geospatial Python Bootcamp](https://youtube.com/playlist?list=PLPBWT_CJ5QhL90iN3n6zWGpSXQLw42ToU&si=04Dv0mI3pPpBK29z)"
   ]
  },
  {
   "cell_type": "markdown",
   "metadata": {},
   "source": [
    "### Creating a Simple Map"
   ]
  },
  {
   "cell_type": "code",
   "execution_count": null,
   "metadata": {},
   "outputs": [],
   "source": [
    "import folium\n",
    "\n",
    "map = folium.Map(location=(6, -1), control_scale=True, zoom_start=8)\n",
    "\n",
    "popup_text = f\"<h1 style='color:red;'>Heyy, you clicked me!</h1>\"\n",
    "\n",
    "# Adding a Marker\n",
    "folium.Marker(\n",
    "    location=[6, -1],\n",
    "    tooltip=\"Click Me\",\n",
    "    popup=popup_text\n",
    ").add_to(map)\n",
    "\n",
    "# Adding a Polyline\n",
    "coordinates = [[5.5, -0.9], [5.8, -1.5]]\n",
    "\n",
    "\n",
    "folium.PolyLine(\n",
    "    locations=coordinates,\n",
    "color='red',\n",
    "tooltip=\"My awesome tooltip\"\n",
    ").add_to(map)\n",
    "\n",
    "# Adding a polygon\n",
    "locations = [\n",
    "    [1.1, 1.1],\n",
    "    [1.2, 1.3],\n",
    "    [1.4, 1.4],\n",
    "    [1.6, 1.2],\n",
    "    [1.3, 1.1],\n",
    "]\n",
    "\n",
    "folium.Polygon(\n",
    "    locations=locations,\n",
    "    fill=True,\n",
    "    fill_color='red',\n",
    "    fill_opacity=1,\n",
    "    no_clip=False\n",
    ").add_to(map)\n",
    "\n",
    "map"
   ]
  },
  {
   "cell_type": "markdown",
   "metadata": {},
   "source": [
    "### Plotting GeoJSON"
   ]
  },
  {
   "cell_type": "code",
   "execution_count": null,
   "metadata": {},
   "outputs": [],
   "source": [
    "import folium\n",
    "import json\n",
    "\n",
    "# Read the GeoJSON\n",
    "with open('./states/states.geojson', 'r') as file:\n",
    "    geo_data = json.load(file)\n",
    "\n",
    "\n",
    "map = folium.Map([38.754083, -99.755859], zoom_start=2)\n",
    "\n",
    "def style_map(feature):\n",
    "    ...\n",
    "\n",
    "folium.GeoJson(\n",
    "    data=geo_data,\n",
    "    zoom_on_click=True,\n",
    "    style_function = lambda x: {\n",
    "     \"fillColor\": \"red\",\n",
    "     \"fillOpacity\": 0.7,\n",
    " },\n",
    " tooltip=lambda y: y[\"properties\"][\"name_id\"]\n",
    ").add_to(map)\n",
    "\n",
    "\n",
    "map\n"
   ]
  },
  {
   "cell_type": "markdown",
   "metadata": {},
   "source": [
    "### Adding a Custom Icon"
   ]
  },
  {
   "cell_type": "code",
   "execution_count": null,
   "metadata": {},
   "outputs": [],
   "source": [
    "m = folium.Map(location=[45.3288, -121.6625], zoom_start=12)\n",
    "\n",
    "url = \"https://leafletjs.com/examples/custom-icons/{}\".format\n",
    "icon_image = url(\"leaf-red.png\")\n",
    "shadow_image = url(\"leaf-shadow.png\")\n",
    "\n",
    "icon_path = 'files/icon.png'\n",
    "\n",
    "icon = folium.CustomIcon(\n",
    "    icon_path,\n",
    "    icon_size=(38, 95),\n",
    "    icon_anchor=(22, 94),\n",
    "    shadow_image=shadow_image,\n",
    "    shadow_size=(50, 64),\n",
    "    shadow_anchor=(4, 62),\n",
    "    popup_anchor=(-3, -76),\n",
    ")\n",
    "\n",
    "folium.Marker(\n",
    "    location=[45.3288, -121.6625], icon=icon, popup=\"Mt. Hood Meadows\"\n",
    ").add_to(m)\n",
    "\n",
    "m"
   ]
  },
  {
   "cell_type": "markdown",
   "metadata": {},
   "source": [
    "### Adding Layers and Layergroups"
   ]
  },
  {
   "cell_type": "code",
   "execution_count": null,
   "metadata": {},
   "outputs": [],
   "source": [
    "import folium\n",
    "\n",
    "map = folium.Map(location=(2, 2), zoom_start=5)\n",
    "folium.TileLayer(tiles=\"OpenStreetMap\", name='OSM').add_to(map)\n",
    "folium.TileLayer(tiles=\"CartodbPositron\", name='Carto DB').add_to(map)\n",
    "\n",
    "# Points\n",
    "point_group = folium.FeatureGroup(name=\"Points\", show=False).add_to(map)\n",
    "folium.Marker(location=(0, 0), popup=\"Point 1\").add_to(point_group)\n",
    "folium.Marker(location=(1, 1), popup=\"Point 2\").add_to(point_group)\n",
    "folium.Marker(location=(2, 2), popup=\"Point 3\").add_to(point_group)\n",
    "folium.Marker(location=(3, 3), popup=\"Point 4\").add_to(point_group)\n",
    "\n",
    "# Line\n",
    "line_group = folium.FeatureGroup(name=\"Lines\", show=False).add_to(map)\n",
    "folium.PolyLine(\n",
    "    locations=[(0, 0), (1, 1), (2, 2)], \n",
    "    color=\"blue\", \n",
    "    weight=2.5, \n",
    "    opacity=1\n",
    "    ).add_to(line_group)\n",
    "\n",
    "# Polygon\n",
    "polygon_group = folium.FeatureGroup(name=\"Polygons\", show=False).add_to(map)\n",
    "folium.Polygon(\n",
    "    locations=[(2, 2), (2, 3), (3, 3), (3, 2)], \n",
    "    color=\"green\", \n",
    "    fill=True, \n",
    "    fill_opacity=0.4\n",
    "    ).add_to(polygon_group)\n",
    "\n",
    "\n",
    "# States layer\n",
    "states_group = folium.FeatureGroup(name=\"States\", show=False).add_to(map)\n",
    "\n",
    "with open('./states/states.geojson', 'r') as file:\n",
    "    geo_data = json.load(file)\n",
    "\n",
    "\n",
    "folium.GeoJson(\n",
    "    data=geo_data,\n",
    "    zoom_on_click=True,\n",
    "    style_function = lambda x: {\n",
    "     \"fillColor\": \"red\",\n",
    "     \"fillOpacity\": 0.7,\n",
    " },\n",
    " tooltip=lambda y: y[\"properties\"][\"name_id\"]\n",
    ").add_to(states_group)\n",
    "\n",
    "folium.LayerControl().add_to(map)\n",
    "\n",
    "map.save('my_map.html')"
   ]
  }
 ],
 "metadata": {
  "kernelspec": {
   "display_name": "geospatial",
   "language": "python",
   "name": "python3"
  },
  "language_info": {
   "codemirror_mode": {
    "name": "ipython",
    "version": 3
   },
   "file_extension": ".py",
   "mimetype": "text/x-python",
   "name": "python",
   "nbconvert_exporter": "python",
   "pygments_lexer": "ipython3",
   "version": "3.9.7"
  }
 },
 "nbformat": 4,
 "nbformat_minor": 2
}
